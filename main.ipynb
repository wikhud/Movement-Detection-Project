{
  "cells": [
    {
      "cell_type": "code",
      "source": [
        "import cv2\n",
        "import numpy as np\n",
        "\n",
        "cap = cv2.VideoCapture(0)\n",
        "\n",
        "_, frame1 = cap.read()\n",
        "frame1_gray = cv2.cvtColor(frame1, cv2.COLOR_BGR2GRAY)\n",
        "frame1_gray = cv2.GaussianBlur(frame1_gray, (21, 21), 0)\n",
        "\n",
        "while True:\n",
        "    _, frame2 = cap.read()\n",
        "    frame2_gray = cv2.cvtColor(frame2, cv2.COLOR_BGR2GRAY)\n",
        "    frame2_gray = cv2.GaussianBlur(frame2_gray, (21, 21), 0)\n",
        "\n",
        "    frame_diff = cv2.absdiff(frame1_gray, frame2_gray)\n",
        "\n",
        "    frame1_gray = frame2_gray\n",
        "\n",
        "    thresh = cv2.threshold(frame_diff, 30, 255, cv2.THRESH_BINARY)[1]\n",
        "    thresh = cv2.dilate(thresh, None, iterations=120)\n",
        "\n",
        "    contours, _ = cv2.findContours(thresh, cv2.RETR_EXTERNAL, cv2.CHAIN_APPROX_SIMPLE)\n",
        "\n",
        "    for contour in contours:\n",
        "        if cv2.contourArea(contour) < 10000:\n",
        "            continue\n",
        "        print(\"Motion Detection\")\n",
        "        cv2.putText(frame2, \"Motion Detection\", (10, 25), cv2.FONT_HERSHEY_SIMPLEX, 1, (0, 0, 255), 2)\n",
        "        (x, y, w, h) = cv2.boundingRect(contour)\n",
        "        cv2.rectangle(frame2, (x, y), (x+w, y+h), (0, 255, 0), 2)\n",
        "\n",
        "    cv2.imshow(\"Motion Detection\", frame2)\n",
        "    if cv2.waitKey(1) == ord(\"q\"):\n",
        "        break\n",
        "\n",
        "cap.release()\n",
        "cv2.destroyAllWindows()"
      ],
      "metadata": {
        "id": "VzPllEU_KRv7"
      },
      "execution_count": null,
      "outputs": []
    }
  ],
  "metadata": {
    "colab": {
      "provenance": []
    },
    "kernelspec": {
      "display_name": "Python 3 (ipykernel)",
      "language": "python",
      "name": "python3"
    },
    "language_info": {
      "codemirror_mode": {
        "name": "ipython",
        "version": 3
      },
      "file_extension": ".py",
      "mimetype": "text/x-python",
      "name": "python",
      "nbconvert_exporter": "python",
      "pygments_lexer": "ipython3",
      "version": "3.10.5"
    }
  },
  "nbformat": 4,
  "nbformat_minor": 0
}